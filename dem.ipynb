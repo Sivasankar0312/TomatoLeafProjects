{
 "cells": [
  {
   "cell_type": "code",
   "execution_count": 5,
   "metadata": {},
   "outputs": [],
   "source": [
    "from transformers import MBartForConditionalGeneration, MBart50TokenizerFast\n",
    "\n",
    "\n",
    "article_en=\"In the early stages of tomato leaf disease, preventive measures and prompt action are crucial. Begin by ensuring proper plant spacing for adequate air circulation and using well-draining soil. Water the plants at the base, avoiding foliage, to reduce humidity. Apply a layer of mulch to prevent soil-borne pathogens from splashing onto leaves. Regularly inspect plants for signs of disease, and promptly remove and destroy infected leaves. Utilize organic fungicides or neem oil as a preventive measure. Additionally, consider rotating crops yearly to minimize disease recurrence. Early intervention and a holistic approach contribute to effective management of tomato leaf diseases.\"\n",
    "model=MBartForConditionalGeneration.from_pretrained('facebook/mbart-large-50-many-to-many-mmt')\n",
    "tokenizer=MBart50TokenizerFast.from_pretrained('facebook/mbart-large-50-one-to-many-mmt',src_lang='en_XX')\n",
    "\n",
    "# translate Hindi to French\n",
    "\n",
    "# encoded_hi = tokenizer(article_hi, return_tensors=\"pt\")\n",
    "# generated_tokens = model.generate(**encoded_hi, forced_bos_token_id=tokenizer.lang_code_to_id[\"ta_IN\"])\n",
    "# tranlation=tokenizer.batch_decode(generated_tokens, skip_special_tokens=True)\n",
    "\n",
    "model_input=tokenizer(article_en,return_tensors=\"pt\")\n",
    "gentok=model.generate(**model_input,forced_bos_token_id=tokenizer.lang_code_to_id['ta_IN'])\n",
    "translation=tokenizer.batch_decode(gentok,skip_special_tokens=True)\n",
    "# => \"Le chef de l 'ONU affirme qu 'il n 'y a pas de solution militaire en Syria.\"  \n"
   ]
  },
  {
   "cell_type": "code",
   "execution_count": 6,
   "metadata": {},
   "outputs": [
    {
     "data": {
      "text/plain": [
       "['தக்காளிப் பயிர் நோய்யின் ஆரம்ப கட்டங்களில், தடுப்பு நடவடிக்கைகள் மற்றும் உடனடி நடவடிக்கைகள் மிகவும் முக்கியமானவை. போதுமான காற்றுச் சுழற்சிக்கான சரியான பயிர் இடைவெளியை உறுதி செய்வதுடன், நல்ல நீர்ப்பாசனப் பூமியைப் பயன்படுத்துவதுடன் தொடங்குங்கள். அடித்தளத்தில் உள்ள பயிர்களுக்கு நீரைக் கொதியுங்கள், பயிர்களை தவிர்த்து, மண்ணீரைக் குறைக்க வேண்டும். தண்ணீரைக் கொதிக்கும் தடுப்புப் பொருட்களை தண்ணீரை ஒரு அடுக்குப் பயன்படுத்துங்கள். தண்ணீரைக் கொதிக்கும் தொற்றுநோய்களை தண்ணீரைக் கொதிக்கும் தண்ணீரைக் கொதியுங்கள். தொற்றுநோய் அடையாளங்களுக்காக பயிர்களை முறையாக பரிசோதனை செய்து, உடனடியாக தொற்றுநோய் உள்ள பயிர்களை அகற்றவும் அழிக்கவும் நடவடிக்கை எடுக்க வேண்டும். இயற்கை வேதியியல் வேதி']"
      ]
     },
     "execution_count": 6,
     "metadata": {},
     "output_type": "execute_result"
    }
   ],
   "source": [
    "translation"
   ]
  }
 ],
 "metadata": {
  "kernelspec": {
   "display_name": "new",
   "language": "python",
   "name": "python3"
  },
  "language_info": {
   "codemirror_mode": {
    "name": "ipython",
    "version": 3
   },
   "file_extension": ".py",
   "mimetype": "text/x-python",
   "name": "python",
   "nbconvert_exporter": "python",
   "pygments_lexer": "ipython3",
   "version": "3.10.6"
  }
 },
 "nbformat": 4,
 "nbformat_minor": 2
}
